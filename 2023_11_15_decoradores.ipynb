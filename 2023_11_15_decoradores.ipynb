{
  "cells": [
    {
      "cell_type": "markdown",
      "metadata": {
        "id": "view-in-github",
        "colab_type": "text"
      },
      "source": [
        "<a href=\"https://colab.research.google.com/github/fernandaleonn/PythonCourse/blob/main/2023_11_15_decoradores.ipynb\" target=\"_parent\"><img src=\"https://colab.research.google.com/assets/colab-badge.svg\" alt=\"Open In Colab\"/></a>"
      ]
    },
    {
      "cell_type": "markdown",
      "metadata": {
        "id": "0pH9WXUa9ltv"
      },
      "source": [
        "Decoradores\n",
        "===========\n",
        "\n",
        "**Date:** 2023-11-15\n",
        "\n"
      ]
    },
    {
      "cell_type": "markdown",
      "metadata": {
        "id": "YE3jQ95E9ltw"
      },
      "source": [
        "## Idea\n",
        "\n"
      ]
    },
    {
      "cell_type": "markdown",
      "metadata": {
        "id": "3nE36mPj9ltx"
      },
      "source": [
        "Los *decorators* son un caso particular de funciones que aceptan funciones y regresan funciones. Por ejemplo:\n",
        "\n"
      ]
    },
    {
      "cell_type": "code",
      "execution_count": 8,
      "metadata": {
        "colab": {
          "base_uri": "https://localhost:8080/"
        },
        "id": "2NGY8N0G9lty",
        "outputId": "d5f97067-ea3c-4bd4-bada-37fcb9832ac1"
      },
      "outputs": [
        {
          "output_type": "stream",
          "name": "stdout",
          "text": [
            "Voy a ejecutar una función\n",
            "Hola mundo\n",
            "Ya terminé\n"
          ]
        }
      ],
      "source": [
        "def saludo_func(func):\n",
        "    def salida():\n",
        "        print(\"Voy a ejecutar una función\")\n",
        "        func()\n",
        "        print(\"Ya terminé\")\n",
        "    return salida\n",
        "\n",
        "def hello():\n",
        "    print(\"Hello world\")\n",
        "\n",
        "def hola():\n",
        "    print(\"Hola mundo\")\n",
        "\n",
        "\n",
        "#hello()\n",
        "#hello2 = saludo_func(hello)\n",
        "#hello2()\n",
        "hola = saludo_func(hola)\n",
        "hola()"
      ]
    },
    {
      "cell_type": "code",
      "execution_count": 3,
      "metadata": {
        "colab": {
          "base_uri": "https://localhost:8080/"
        },
        "id": "H6RSZPfH9ltz",
        "outputId": "54b8b84e-f229-4dd3-d0c3-1bf7b57b03e3"
      },
      "outputs": [
        {
          "output_type": "stream",
          "name": "stdout",
          "text": [
            "Hello world\n",
            "Hello world\n"
          ]
        }
      ],
      "source": [
        "def execute_twice(func):\n",
        "    def twice():\n",
        "        func()\n",
        "        func()\n",
        "    return twice\n",
        "\n",
        "hello3 = execute_twice(hello)\n",
        "hello3()"
      ]
    },
    {
      "cell_type": "markdown",
      "metadata": {
        "id": "uir8lERo9lt0"
      },
      "source": [
        "Un resultado parecido se obtiene \"decorando\" la función.\n",
        "\n"
      ]
    },
    {
      "cell_type": "code",
      "execution_count": null,
      "metadata": {
        "id": "o1DDGQhO9lt0"
      },
      "outputs": [],
      "source": [
        "@saludo_func\n",
        "def hello():\n",
        "    print(\"Hello world\")\n",
        "\n",
        "@saludo_func\n",
        "def hola():\n",
        "    print(\"Hola mundo\")\n",
        "\n",
        "hola()"
      ]
    },
    {
      "cell_type": "code",
      "execution_count": null,
      "metadata": {
        "id": "SbqZk9ag9lt1"
      },
      "outputs": [],
      "source": [
        "@execute_twice\n",
        "def hola():\n",
        "    print(\"Hola mundo\")\n",
        "\n",
        "hola()"
      ]
    },
    {
      "cell_type": "markdown",
      "metadata": {
        "id": "r1YXwg-w9lt2"
      },
      "source": [
        "Si queremos decorar una función con argumentos, así como lo tenemos definido, no funciona, pues tenemos que pasar los argumentos de la función decorada. Como queremos que el decorador sirva para cualquier cantidad y tipo de argumentos, usaremos la sintaxis que nos permite un número arbitrario de argumentos.\n",
        "\n"
      ]
    },
    {
      "cell_type": "code",
      "execution_count": null,
      "metadata": {
        "id": "xLRtGZO79lt3"
      },
      "outputs": [],
      "source": [
        "@saludo_func\n",
        "def suma(x, y):\n",
        "    print(f\"La suma es {x+y}\")\n",
        "\n",
        "suma(2, 3)"
      ]
    },
    {
      "cell_type": "markdown",
      "metadata": {
        "id": "_HwQWfQw9lt4"
      },
      "source": [
        "Como ejemplo de esa sintaxis:\n",
        "\n"
      ]
    },
    {
      "cell_type": "code",
      "execution_count": null,
      "metadata": {
        "id": "eY_Nn8wJ9lt4"
      },
      "outputs": [],
      "source": [
        "def muchos_argumentos(*args):\n",
        "    # print(type(args))\n",
        "    return args[0]\n",
        "\n",
        "muchos_argumentos(1, 2, 3), muchos_argumentos(\"hola\", \"adios\")"
      ]
    },
    {
      "cell_type": "code",
      "execution_count": null,
      "metadata": {
        "id": "GZJKvLjD9lt5"
      },
      "outputs": [],
      "source": [
        "def argumentos_keyword(**kwargs):\n",
        "    print(type(kwargs))\n",
        "    print(kwargs)\n",
        "    return kwargs['inicio']\n",
        "\n",
        "argumentos_keyword(inicio=\"hola\", final=\"adios\", cantidad=3)"
      ]
    },
    {
      "cell_type": "code",
      "execution_count": null,
      "metadata": {
        "id": "d25GcV-G9lt5"
      },
      "outputs": [],
      "source": [
        "def saludo_func(func):\n",
        "    def salida(*args, **kwargs):\n",
        "        print(\"Voy a ejecutar una función\")\n",
        "        func(*args, **kwargs)\n",
        "        print(\"Ya terminé\")\n",
        "    return salida\n",
        "\n",
        "@saludo_func\n",
        "def suma(x, y):\n",
        "    print(f\"La suma es {x+y}\")\n",
        "\n",
        "suma(2, 3)"
      ]
    },
    {
      "cell_type": "markdown",
      "metadata": {
        "id": "YDr_u6Hj9lt6"
      },
      "source": [
        "**TAREA** Hacer una nueva versión de la función `suma` que acepte una cantidad arbitraria de argumentos numéricos y regrese la suma. A continuación, decorar esa nueva versión con `saludo_func`.\n",
        "\n"
      ]
    },
    {
      "cell_type": "code",
      "execution_count": null,
      "metadata": {
        "id": "iZASaKuI9lt6"
      },
      "outputs": [],
      "source": [
        "def saludos(veces, saludo=\"Hola\"):\n",
        "    for i in range(veces):\n",
        "        print(saludo)\n",
        "\n",
        "saludos(4)"
      ]
    },
    {
      "cell_type": "code",
      "execution_count": null,
      "metadata": {
        "id": "cxAb_flA9lt7"
      },
      "outputs": [],
      "source": [
        "@saludo_func\n",
        "def saludos(veces, saludo=\"Hola\"):\n",
        "    for i in range(veces):\n",
        "        print(saludo)\n",
        "\n",
        "saludos(3, saludo=\"Adiós\")"
      ]
    },
    {
      "cell_type": "markdown",
      "metadata": {
        "id": "LF6Jyo3_9lt8"
      },
      "source": [
        "En los ejemplos anteriores hemos utilizado funciones con *efectos secundarios* (como *print*). Supongamos que queremos decorar una función que regrese algo.\n",
        "\n"
      ]
    },
    {
      "cell_type": "code",
      "execution_count": null,
      "metadata": {
        "id": "AeRd0ldT9lt9"
      },
      "outputs": [],
      "source": [
        "def ejecuta_doble(func):\n",
        "    def decorador(*args, **kwargs):\n",
        "        func(*args, **kwargs)\n",
        "        func(*args, **kwargs)\n",
        "    return decorador\n",
        "\n",
        "@ejecuta_doble\n",
        "def suma(x, y):\n",
        "    print(\"El resultado es:\")\n",
        "    return x+y\n",
        "\n",
        "suma(2, 3)"
      ]
    },
    {
      "cell_type": "markdown",
      "metadata": {
        "id": "mLeeBTTw9lt9"
      },
      "source": [
        "Para que funcione, el decorador debe de regresar el resultado de la función decorada.\n",
        "\n"
      ]
    },
    {
      "cell_type": "code",
      "execution_count": null,
      "metadata": {
        "id": "VJMgoOnl9lt9"
      },
      "outputs": [],
      "source": [
        "def ejecuta_doble(func):\n",
        "    def decorador(*args, **kwargs):\n",
        "        func(*args, **kwargs)\n",
        "        func(*args, **kwargs)\n",
        "        return func(*args, **kwargs)\n",
        "    return decorador\n",
        "\n",
        "@ejecuta_doble\n",
        "def suma(x, y):\n",
        "    print(\"El resultado es:\")\n",
        "    return x+y\n",
        "\n",
        "a = suma(2, 3)"
      ]
    },
    {
      "cell_type": "code",
      "execution_count": null,
      "metadata": {
        "id": "Ngn6FoVb9lt-"
      },
      "outputs": [],
      "source": [
        "a"
      ]
    },
    {
      "cell_type": "markdown",
      "metadata": {
        "id": "GIcTEk389lt-"
      },
      "source": [
        "## Decoradores predefinidos\n",
        "\n"
      ]
    },
    {
      "cell_type": "markdown",
      "metadata": {
        "id": "rbawGlgN9lt-"
      },
      "source": [
        "### property\n",
        "\n"
      ]
    },
    {
      "cell_type": "markdown",
      "metadata": {
        "id": "cv-Hs3wI9lt-"
      },
      "source": [
        "Recordemos la clase que definimos para números complejos:\n",
        "\n"
      ]
    },
    {
      "cell_type": "code",
      "execution_count": null,
      "metadata": {
        "id": "yE1Ztip59lt_"
      },
      "outputs": [],
      "source": [
        "from math import sqrt\n",
        "\n",
        "class NúmeroComplejo:\n",
        "    def __init__(self, parte_real, parte_imaginaria):\n",
        "        self.r = parte_real\n",
        "        self.i = parte_imaginaria\n",
        "\n",
        "    def módulo(self):\n",
        "        return sqrt(self.r**2 + self.i**2)\n",
        "\n",
        "z = NúmeroComplejo(3, -1)\n",
        "z.r, z.i, z.módulo()"
      ]
    },
    {
      "cell_type": "markdown",
      "metadata": {
        "id": "IQ0uqpjt9lt_"
      },
      "source": [
        "En este caso, `módulo` es en realidad un atributo del número complejo, pero como está calculado por una función, se deben incluir los paréntesis. Pero decorando el método con `@property` (que ya viene definido con Python), se puede convertir en atributo.\n",
        "\n"
      ]
    },
    {
      "cell_type": "code",
      "execution_count": null,
      "metadata": {
        "id": "DKpSiz1r9lt_"
      },
      "outputs": [],
      "source": [
        "from math import sqrt\n",
        "\n",
        "class NúmeroComplejo:\n",
        "    def __init__(self, parte_real, parte_imaginaria):\n",
        "        self.r = parte_real\n",
        "        self.i = parte_imaginaria\n",
        "\n",
        "    @property\n",
        "    def módulo(self):\n",
        "        return sqrt(self.r**2 + self.i**2)\n",
        "\n",
        "z = NúmeroComplejo(3, -1)\n",
        "z.r, z.i, z.módulo"
      ]
    },
    {
      "cell_type": "markdown",
      "metadata": {
        "id": "no_y9TXq9lt_"
      },
      "source": [
        "### cache\n",
        "\n"
      ]
    },
    {
      "cell_type": "code",
      "execution_count": null,
      "metadata": {
        "id": "hqxqvfXA9lt_"
      },
      "outputs": [],
      "source": [
        "from functools import cache\n",
        "\n",
        "# @cache\n",
        "def factorial(n):\n",
        "    return n * factorial(n-1) if n else 1\n",
        "\n",
        "%time factorial(1000)"
      ]
    },
    {
      "cell_type": "code",
      "execution_count": null,
      "metadata": {
        "id": "Jk5tKjRm9lt_"
      },
      "outputs": [],
      "source": [
        "%time factorial(1001)"
      ]
    },
    {
      "cell_type": "markdown",
      "metadata": {
        "id": "lrwptUvS9lt_"
      },
      "source": [
        "### dataclass\n",
        "\n"
      ]
    },
    {
      "cell_type": "markdown",
      "metadata": {
        "id": "upOc14kX9lt_"
      },
      "source": [
        "También se pueden decorar clases. Por ejemplo, `@dataclass` puede definir de manera rápida los métodos `__init__` y `__repr__` en clases sencillas. (A partir de Python 3.7)\n",
        "\n"
      ]
    },
    {
      "cell_type": "code",
      "execution_count": null,
      "metadata": {
        "id": "nI6v-sek9luA"
      },
      "outputs": [],
      "source": [
        "from dataclasses import dataclass\n",
        "\n",
        "from math import sqrt\n",
        "\n",
        "@dataclass\n",
        "class NúmeroComplejo:\n",
        "    r: float\n",
        "    i: float\n",
        "\n",
        "    @property\n",
        "    def módulo(self):\n",
        "        return sqrt(self.r**2 + self.i**2)\n",
        "\n",
        "z = NúmeroComplejo(3, -1)\n",
        "z.r, z.i, z.módulo, z"
      ]
    },
    {
      "cell_type": "markdown",
      "metadata": {
        "id": "YluFcZZO9luA"
      },
      "source": [
        "### wraps\n",
        "\n"
      ]
    },
    {
      "cell_type": "markdown",
      "metadata": {
        "id": "xMNQ2tmR9luA"
      },
      "source": [
        "Una función \"conoce\" su nombre y su documentación.\n",
        "\n"
      ]
    },
    {
      "cell_type": "code",
      "execution_count": null,
      "metadata": {
        "id": "OtoW-n6W9luB"
      },
      "outputs": [],
      "source": [
        "def suma(x, y):\n",
        "    \"\"\"Regresa una suma\"\"\"\n",
        "    print(f\"La suma es {x+y}\")\n",
        "\n",
        "suma.__name__, suma.__doc__"
      ]
    },
    {
      "cell_type": "markdown",
      "metadata": {
        "id": "rR3NCiuu9luB"
      },
      "source": [
        "Pero al ser decorada, ya no lo recuerda exactamente, sino que reporta el nombre del decorador.\n",
        "\n"
      ]
    },
    {
      "cell_type": "code",
      "execution_count": null,
      "metadata": {
        "id": "dj_NChhB9luB"
      },
      "outputs": [],
      "source": [
        "def ejecuta_doble(func):\n",
        "    def decorador(*args, **kwargs):\n",
        "        func(*args, **kwargs)\n",
        "        func(*args, **kwargs)\n",
        "        return func(*args, **kwargs)\n",
        "    return decorador\n",
        "\n",
        "@ejecuta_doble\n",
        "def suma(x, y):\n",
        "    \"\"\"Regresa una suma\"\"\"\n",
        "    print(f\"La suma es {x+y}\")\n",
        "\n",
        "suma.__name__, suma.__doc__"
      ]
    },
    {
      "cell_type": "markdown",
      "metadata": {
        "id": "NxUQCOkd9luB"
      },
      "source": [
        "Entonces, los decoradores deben también ser decorados. Este es un caso de un decorador con argumentos, su argumento es la función a decorar.\n",
        "\n"
      ]
    },
    {
      "cell_type": "code",
      "execution_count": null,
      "metadata": {
        "id": "kYgGg5VC9luB"
      },
      "outputs": [],
      "source": [
        "from functools import wraps\n",
        "\n",
        "def ejecuta_doble(func):\n",
        "    @wraps(func)\n",
        "    def decorador(*args, **kwargs):\n",
        "        func(*args, **kwargs)\n",
        "        func(*args, **kwargs)\n",
        "        return func(*args, **kwargs)\n",
        "    return decorador\n",
        "\n",
        "@ejecuta_doble\n",
        "def suma(x, y):\n",
        "    \"\"\"Regresa una suma\"\"\"\n",
        "    print(f\"La suma es {x+y}\")\n",
        "\n",
        "suma.__name__, suma.__doc__"
      ]
    },
    {
      "cell_type": "markdown",
      "metadata": {
        "id": "AmmHqIHw9luC"
      },
      "source": [
        "Por eso, en la página [https://realpython.com/primer-on-python-decorators/>](https://realpython.com/primer-on-python-decorators/>)recomiendan que todos los decoradores sigan este patrón:\n",
        "\n"
      ]
    },
    {
      "cell_type": "code",
      "execution_count": null,
      "metadata": {
        "id": "19SuINGd9luC"
      },
      "outputs": [],
      "source": [
        "import functools\n",
        "\n",
        "def decorator(func):\n",
        "    @functools.wraps(func)\n",
        "    def wrapper_decorator(*args, **kwargs):\n",
        "        # Do something before\n",
        "        value = func(*args, **kwargs)\n",
        "        # Do something after\n",
        "        return value\n",
        "    return wrapper_decorator"
      ]
    },
    {
      "cell_type": "markdown",
      "metadata": {
        "id": "rzB0JQEX9luC"
      },
      "source": [
        "### staticmethod and classmethod\n",
        "\n"
      ]
    },
    {
      "cell_type": "markdown",
      "metadata": {
        "id": "cnosQYMn9luC"
      },
      "source": [
        "Estos ejemplos son tomados de [https://aiflavours.com/python-decorator/](https://aiflavours.com/python-decorator/)\n",
        "\n",
        "Consideremos una clase que tiene un método independiente de `self`, el cual quisiéramos usar en una instancia de la clase.\n",
        "\n"
      ]
    },
    {
      "cell_type": "code",
      "execution_count": null,
      "metadata": {
        "id": "jJreP6me9luC"
      },
      "outputs": [],
      "source": [
        "class Car:\n",
        "    def __init__(self, colour):\n",
        "        self.colour = colour\n",
        "\n",
        "    def get_number_of_wheels():\n",
        "        return 4\n",
        "\n",
        "red_car = Car(colour=\"red\")\n",
        "\n",
        "# ok\n",
        "Car.get_number_of_wheels()\n",
        "\n",
        "# not ok\n",
        "# red_car.get_number_of_wheels(),"
      ]
    },
    {
      "cell_type": "code",
      "execution_count": null,
      "metadata": {
        "id": "fTVZzaqV9luC"
      },
      "outputs": [],
      "source": [
        "class Car:\n",
        "    def __init__(self, colour):\n",
        "        self.colour = colour\n",
        "\n",
        "    @staticmethod\n",
        "    def get_number_of_wheels():\n",
        "        return 4\n",
        "\n",
        "red_car = Car(colour=\"red\")\n",
        "red_car.get_number_of_wheels(), Car.get_number_of_wheels()"
      ]
    },
    {
      "cell_type": "markdown",
      "metadata": {
        "id": "GieBK8ou9luD"
      },
      "source": [
        "Por otro lado, podemos usar `@classmethod` para crear instancias de una clase usando un método de la misma clase.\n",
        "\n"
      ]
    },
    {
      "cell_type": "code",
      "execution_count": null,
      "metadata": {
        "id": "aqbOStCe9luD"
      },
      "outputs": [],
      "source": [
        "class Car:\n",
        "    def __init__(self, colour):\n",
        "        self.colour = colour\n",
        "\n",
        "    @classmethod\n",
        "    def load(cls, colour):\n",
        "        return cls(colour)\n",
        "\n",
        "blue_car = Car.load(\"blue\")\n",
        "\n",
        "type(blue_car), blue_car.colour"
      ]
    }
  ],
  "metadata": {
    "kernelspec": {
      "display_name": "Python 3",
      "language": "python",
      "name": "python3"
    },
    "language_info": {
      "codemirror_mode": {
        "name": "ipython",
        "version": 3
      },
      "file_extension": ".py",
      "mimetype": "text/x-python",
      "name": "python",
      "nbconvert_exporter": "python",
      "pygments_lexer": "ipython3",
      "version": "3.9.2"
    },
    "org": null,
    "colab": {
      "provenance": [],
      "include_colab_link": true
    }
  },
  "nbformat": 4,
  "nbformat_minor": 0
}