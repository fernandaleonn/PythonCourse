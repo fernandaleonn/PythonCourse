{
  "nbformat": 4,
  "nbformat_minor": 0,
  "metadata": {
    "colab": {
      "provenance": [],
      "authorship_tag": "ABX9TyOhvi2oqPO9aXsliy9RB3ek",
      "include_colab_link": true
    },
    "kernelspec": {
      "name": "python3",
      "display_name": "Python 3"
    },
    "language_info": {
      "name": "python"
    }
  },
  "cells": [
    {
      "cell_type": "markdown",
      "metadata": {
        "id": "view-in-github",
        "colab_type": "text"
      },
      "source": [
        "<a href=\"https://colab.research.google.com/github/fernandaleonn/PythonCourse/blob/main/TareaGen.ipynb\" target=\"_parent\"><img src=\"https://colab.research.google.com/assets/colab-badge.svg\" alt=\"Open In Colab\"/></a>"
      ]
    },
    {
      "cell_type": "markdown",
      "source": [
        "# Tarea generadores"
      ],
      "metadata": {
        "id": "oP29cD-L0Iv0"
      }
    },
    {
      "cell_type": "markdown",
      "source": [
        "**Sugerencias** Para la primer tarea, escoger una estructura de datos que sea adecuada para el problema. Para la segunda, usar el método `strip` de una cadena, la cual remueve el carácter de salto de línea del final de una línea."
      ],
      "metadata": {
        "id": "fFsNxz8K4mMN"
      }
    },
    {
      "cell_type": "markdown",
      "source": [
        "Hacer una función que, dada una lista de cadenas, informe cuántas veces ocurre cada cadena. Por ejemplo, si la lista es `['la', 'casa', 'roja', 'es', 'roja']`, debe reportar que 'la', 'casa' y 'es' aparecen una vez cada una y 'roja' aparece dos veces."
      ],
      "metadata": {
        "id": "DU3P08640PJY"
      }
    },
    {
      "cell_type": "markdown",
      "source": [
        "Si queremos contar las apariciones de caracteres en un texto, es útil aplicar la función count a strings de Python.\n"
      ],
      "metadata": {
        "id": "SVV_dzoe0fsy"
      }
    },
    {
      "cell_type": "code",
      "source": [
        "cadena = \"Hola mundo, estoy feliz\"\n",
        "ocurrencias = cadena.count(\"o\")\n",
        "print(ocurrencias)"
      ],
      "metadata": {
        "colab": {
          "base_uri": "https://localhost:8080/"
        },
        "outputId": "08d7d76c-7473-4e29-cba3-61b6900bf856",
        "id": "sn1Mxsdi1x88"
      },
      "execution_count": null,
      "outputs": [
        {
          "output_type": "stream",
          "name": "stdout",
          "text": [
            "3\n"
          ]
        }
      ]
    },
    {
      "cell_type": "markdown",
      "source": [
        "También podemos utilizar la función count no solo para contar letras individuales. También puedes contar palabras enteras"
      ],
      "metadata": {
        "id": "i4OYlZ121PWo"
      }
    },
    {
      "cell_type": "markdown",
      "source": [
        "Ejemplo:"
      ],
      "metadata": {
        "id": "0wJRtiC91i0g"
      }
    },
    {
      "cell_type": "code",
      "source": [
        "cadena = \"Hola, mundo\"\n",
        "ocurrencias = cadena.count(\"mundo\")\n",
        "print(ocurrencias)"
      ],
      "metadata": {
        "colab": {
          "base_uri": "https://localhost:8080/"
        },
        "id": "deOD8xFvpnLN",
        "outputId": "3cbe3392-62ce-4a7f-96ff-8977e899421e"
      },
      "execution_count": null,
      "outputs": [
        {
          "output_type": "stream",
          "name": "stdout",
          "text": [
            "1\n"
          ]
        }
      ]
    },
    {
      "cell_type": "markdown",
      "source": [
        "Python count también se puede utilizar en tipos de secuencia como listas Python. La llamada es análoga a la llamada de Python count para cadenas:"
      ],
      "metadata": {
        "id": "aINf3RyR1lfR"
      }
    },
    {
      "cell_type": "code",
      "source": [
        "l = [1,2,3,1,4,5,1]\n",
        "l.count(1)"
      ],
      "metadata": {
        "colab": {
          "base_uri": "https://localhost:8080/"
        },
        "id": "bJXSRtum1rfv",
        "outputId": "65a5b4b7-87e4-4d9f-e50a-2fbe0b838fe6"
      },
      "execution_count": null,
      "outputs": [
        {
          "output_type": "execute_result",
          "data": {
            "text/plain": [
              "3"
            ]
          },
          "metadata": {},
          "execution_count": 1
        }
      ]
    },
    {
      "cell_type": "markdown",
      "source": [
        "**Tarea 1:**"
      ],
      "metadata": {
        "id": "eaz4NYJ919JE"
      }
    },
    {
      "cell_type": "code",
      "source": [
        "def frecuencia(cadenas):\n",
        "    veces = {}\n",
        "    for palabra in cadenas:\n",
        "        if palabra in veces:\n",
        "           veces[palabra] = veces[palabra]+ 1 #Realiza el conteo\n",
        "        else:\n",
        "            veces[palabra] = 1\n",
        "    return veces\n"
      ],
      "metadata": {
        "id": "kerAvLOy2-Y_"
      },
      "execution_count": null,
      "outputs": []
    },
    {
      "cell_type": "code",
      "source": [
        "frecuencia([\"la\",\"casa\",\"roja\",\"es\",\"roja\"])"
      ],
      "metadata": {
        "colab": {
          "base_uri": "https://localhost:8080/"
        },
        "id": "-gZr5NA84GBb",
        "outputId": "403596d8-385b-4888-99f1-f12f7d2245f9"
      },
      "execution_count": null,
      "outputs": [
        {
          "output_type": "execute_result",
          "data": {
            "text/plain": [
              "{'la': 1, 'casa': 1, 'roja': 2, 'es': 1}"
            ]
          },
          "metadata": {},
          "execution_count": 11
        }
      ]
    },
    {
      "cell_type": "markdown",
      "source": [
        "Otra forma de hacerlo es con el siguiente código"
      ],
      "metadata": {
        "id": "WRFsncqh2VH4"
      }
    },
    {
      "cell_type": "code",
      "source": [
        "def con_cadenas(lista,cadena):\n",
        "    return lista.count(cadena)\n",
        "\n",
        "cadeniux=[\"la\",\"casa\",\"roja\",\"es\",\"roja\"]\n",
        "valor = con_cadenas(cadeniux,\"roja\")\n",
        "\n",
        "print('La palabra \"roja\" se repite', valor, 'en la lista cadeniux')"
      ],
      "metadata": {
        "colab": {
          "base_uri": "https://localhost:8080/"
        },
        "id": "a3pS_nUY2AQW",
        "outputId": "fa9a6190-3513-45a7-8ae1-77116692d78a"
      },
      "execution_count": null,
      "outputs": [
        {
          "output_type": "stream",
          "name": "stdout",
          "text": [
            "La palabra \"roja\" se repite 2 en la lista cadeniux\n"
          ]
        }
      ]
    },
    {
      "cell_type": "markdown",
      "source": [
        "En el código anterior falta anexar el for para que se haga el conteo de todo en lugar de una por una"
      ],
      "metadata": {
        "id": "LnrfAAn24SZG"
      }
    },
    {
      "cell_type": "markdown",
      "source": [
        "**Tarea 2:**"
      ],
      "metadata": {
        "id": "ieX6p2eY4dJ5"
      }
    },
    {
      "cell_type": "markdown",
      "source": [
        "Guardar la letra de una canción en un archivo de texto. Hacer una función que reciba el nombre del archivo y reporte cuántas veces ocurre cada palabra."
      ],
      "metadata": {
        "id": "0mb44Qla4g-t"
      }
    },
    {
      "cell_type": "code",
      "source": [],
      "metadata": {
        "id": "YgWoGKaV4rx3"
      },
      "execution_count": null,
      "outputs": []
    },
    {
      "cell_type": "code",
      "execution_count": null,
      "metadata": {
        "id": "zK5Y0nW29iOm",
        "colab": {
          "base_uri": "https://localhost:8080/",
          "height": 177
        },
        "outputId": "c1ed63ef-1c23-4c87-e7af-ddf6fce380b9"
      },
      "outputs": [
        {
          "output_type": "error",
          "ename": "FileNotFoundError",
          "evalue": "ignored",
          "traceback": [
            "\u001b[0;31m---------------------------------------------------------------------------\u001b[0m",
            "\u001b[0;31mFileNotFoundError\u001b[0m                         Traceback (most recent call last)",
            "\u001b[0;32m<ipython-input-13-d6c859769734>\u001b[0m in \u001b[0;36m<cell line: 1>\u001b[0;34m()\u001b[0m\n\u001b[0;32m----> 1\u001b[0;31m \u001b[0mmis_datos\u001b[0m \u001b[0;34m=\u001b[0m \u001b[0mopen\u001b[0m\u001b[0;34m(\u001b[0m\u001b[0;34m\"datos.csv\"\u001b[0m\u001b[0;34m)\u001b[0m\u001b[0;34m\u001b[0m\u001b[0;34m\u001b[0m\u001b[0m\n\u001b[0m",
            "\u001b[0;31mFileNotFoundError\u001b[0m: [Errno 2] No such file or directory: 'datos.csv'"
          ]
        }
      ],
      "source": [
        "mis_datos = open(\"datos.csv\")"
      ]
    }
  ]
}