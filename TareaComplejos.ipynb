{
  "nbformat": 4,
  "nbformat_minor": 0,
  "metadata": {
    "colab": {
      "provenance": [],
      "authorship_tag": "ABX9TyP5gzxUq/h2IfFepa+f5eCx",
      "include_colab_link": true
    },
    "kernelspec": {
      "name": "python3",
      "display_name": "Python 3"
    },
    "language_info": {
      "name": "python"
    }
  },
  "cells": [
    {
      "cell_type": "markdown",
      "metadata": {
        "id": "view-in-github",
        "colab_type": "text"
      },
      "source": [
        "<a href=\"https://colab.research.google.com/github/fernandaleonn/PythonCourse/blob/main/TareaComplejos.ipynb\" target=\"_parent\"><img src=\"https://colab.research.google.com/assets/colab-badge.svg\" alt=\"Open In Colab\"/></a>"
      ]
    },
    {
      "cell_type": "markdown",
      "source": [
        "TAREA:\n",
        "\n",
        "Definir la resta ( _sub _ ) y la multiplicación ( _mul  _ ) de dos números, usando los operadores - y *.\n"
      ],
      "metadata": {
        "id": "39uyT0gX0_se"
      }
    },
    {
      "cell_type": "code",
      "execution_count": 15,
      "metadata": {
        "colab": {
          "base_uri": "https://localhost:8080/"
        },
        "id": "K911IY-kqH5n",
        "outputId": "00156cb0-f32c-428b-ffca-3b1ce8b2a386"
      },
      "outputs": [
        {
          "output_type": "execute_result",
          "data": {
            "text/plain": [
              "(3, -4, NúmeroComplejo(3, -4), 5.0)"
            ]
          },
          "metadata": {},
          "execution_count": 15
        }
      ],
      "source": [
        "from math import sqrt\n",
        "class NúmeroComplejo:\n",
        "    def __init__(self, parte_real, parte_imaginaria):\n",
        "        self.r = parte_real\n",
        "        self.i = parte_imaginaria\n",
        "\n",
        "    def __repr__(self):\n",
        "        return f\"NúmeroComplejo({self.r}, {self.i})\"\n",
        "\n",
        "    def módulo(self):\n",
        "        return sqrt(self.r**2+self.i**2)\n",
        "\n",
        "z = NúmeroComplejo(3, -4)\n",
        "z.r, z.i, z, z.módulo()\n"
      ]
    },
    {
      "cell_type": "code",
      "source": [
        "w = NúmeroComplejo(-2, 5)\n",
        "w"
      ],
      "metadata": {
        "colab": {
          "base_uri": "https://localhost:8080/"
        },
        "id": "k69poHCE3ktr",
        "outputId": "9fb6ea3e-3ba0-4c83-96a6-a2015389d68c"
      },
      "execution_count": 16,
      "outputs": [
        {
          "output_type": "execute_result",
          "data": {
            "text/plain": [
              "NúmeroComplejo(-2, 5)"
            ]
          },
          "metadata": {},
          "execution_count": 16
        }
      ]
    },
    {
      "cell_type": "markdown",
      "source": [
        "Notemos que podemos definir la resta de forma similar a la suma, como"
      ],
      "metadata": {
        "id": "cVScxPzw7Pn_"
      }
    },
    {
      "cell_type": "code",
      "source": [
        "def resta_complejos(z1, z2):\n",
        "    return NúmeroComplejo(z1.r - z2.r, z1.i - z2.i)\n",
        "\n",
        "z = NúmeroComplejo(5, -2)\n",
        "w = NúmeroComplejo(4, 2)\n",
        "\n",
        "resta_complejos(z, w)"
      ],
      "metadata": {
        "colab": {
          "base_uri": "https://localhost:8080/"
        },
        "id": "Gn3ROK-d4VLA",
        "outputId": "26916d2d-7148-472f-8c94-11ac6d59f3ed"
      },
      "execution_count": 30,
      "outputs": [
        {
          "output_type": "execute_result",
          "data": {
            "text/plain": [
              "NúmeroComplejo(1, -4)"
            ]
          },
          "metadata": {},
          "execution_count": 30
        }
      ]
    },
    {
      "cell_type": "markdown",
      "source": [
        "Pero se tendría un problema al realizar"
      ],
      "metadata": {
        "id": "aSF4ZDPV7ViJ"
      }
    },
    {
      "cell_type": "code",
      "source": [
        "z,w,z-w"
      ],
      "metadata": {
        "colab": {
          "base_uri": "https://localhost:8080/",
          "height": 175
        },
        "id": "7XPYJOdc7G_K",
        "outputId": "560266df-d865-498a-c6d6-d7601b1a6e69"
      },
      "execution_count": 17,
      "outputs": [
        {
          "output_type": "error",
          "ename": "TypeError",
          "evalue": "ignored",
          "traceback": [
            "\u001b[0;31m---------------------------------------------------------------------------\u001b[0m",
            "\u001b[0;31mTypeError\u001b[0m                                 Traceback (most recent call last)",
            "\u001b[0;32m<ipython-input-17-df2798c6d90b>\u001b[0m in \u001b[0;36m<cell line: 1>\u001b[0;34m()\u001b[0m\n\u001b[0;32m----> 1\u001b[0;31m \u001b[0mz\u001b[0m\u001b[0;34m,\u001b[0m\u001b[0mw\u001b[0m\u001b[0;34m,\u001b[0m\u001b[0mz\u001b[0m\u001b[0;34m-\u001b[0m\u001b[0mw\u001b[0m\u001b[0;34m\u001b[0m\u001b[0;34m\u001b[0m\u001b[0m\n\u001b[0m",
            "\u001b[0;31mTypeError\u001b[0m: unsupported operand type(s) for -: 'NúmeroComplejo' and 'NúmeroComplejo'"
          ]
        }
      ]
    },
    {
      "cell_type": "markdown",
      "source": [
        "Por lo cual vamos a definir la resta directamente, se define el método  _ sub _, cuyos argumentos son self y other:\n",
        "\n"
      ],
      "metadata": {
        "id": "N1SMhUpa7ZnD"
      }
    },
    {
      "cell_type": "code",
      "source": [
        "from sympy import sqrt\n",
        "\n",
        "class Complejo:\n",
        "    def __init__(self, parte_real, parte_imaginaria):\n",
        "        self.r = parte_real\n",
        "        self.i = parte_imaginaria\n",
        "\n",
        "    def __repr__(self):\n",
        "        return f\"Complejo({self.r}, {self.i})\"\n",
        "\n",
        "    def __sub__(self, other):\n",
        "        return Complejo(self.r - other.r, self.i - other.i)\n",
        "\n",
        "    def módulo(self):\n",
        "        return sqrt(self.r**2+self.i**2)\n",
        "\n",
        "z = Complejo(8, -5)\n",
        "z.r, z.i, z, z.módulo()"
      ],
      "metadata": {
        "colab": {
          "base_uri": "https://localhost:8080/"
        },
        "id": "4d66yZZc4B2M",
        "outputId": "fa629fb2-72ed-4897-c4d9-2508f1725ec6"
      },
      "execution_count": 21,
      "outputs": [
        {
          "output_type": "execute_result",
          "data": {
            "text/plain": [
              "(8, -5, Complejo(8, -5), sqrt(89))"
            ]
          },
          "metadata": {},
          "execution_count": 21
        }
      ]
    },
    {
      "cell_type": "code",
      "source": [
        "z = Complejo(7, -9)\n",
        "w = Complejo(2, 5)\n",
        "z, w, z-w"
      ],
      "metadata": {
        "colab": {
          "base_uri": "https://localhost:8080/"
        },
        "id": "1MscBmq04NPE",
        "outputId": "9e02ade8-ee30-4cd9-b5f8-accda4bf1ba3"
      },
      "execution_count": 22,
      "outputs": [
        {
          "output_type": "execute_result",
          "data": {
            "text/plain": [
              "(Complejo(7, -9), Complejo(2, 5), Complejo(5, -14))"
            ]
          },
          "metadata": {},
          "execution_count": 22
        }
      ]
    },
    {
      "cell_type": "code",
      "source": [
        "Complejo(-1, 4) - Complejo(3, 2)\n"
      ],
      "metadata": {
        "colab": {
          "base_uri": "https://localhost:8080/"
        },
        "id": "6gwJekx-4Q2p",
        "outputId": "b64a229b-943b-4e59-9298-ef63edfda4f4"
      },
      "execution_count": 25,
      "outputs": [
        {
          "output_type": "execute_result",
          "data": {
            "text/plain": [
              "Complejo(-4, 2)"
            ]
          },
          "metadata": {},
          "execution_count": 25
        }
      ]
    },
    {
      "cell_type": "markdown",
      "source": [
        "Ahora, para la multiplicación, notemos que es de manera similar,"
      ],
      "metadata": {
        "id": "j2Gc9yhL9w2P"
      }
    },
    {
      "cell_type": "code",
      "source": [
        "from sympy import sqrt\n",
        "\n",
        "class Complejo:\n",
        "    def __init__(self, parte_real, parte_imaginaria):\n",
        "        self.r = parte_real\n",
        "        self.i = parte_imaginaria\n",
        "\n",
        "    def __repr__(self):\n",
        "        return f\"Complejo({self.r}, {self.i})\"\n",
        "\n",
        "\n",
        "    def __mul__(self, other):\n",
        "        return Complejo((self.r * other.r) - (self.i * other.i),  (self.r * other.i) + (self.i * other.r))\n",
        "\n",
        "    def módulo(self):\n",
        "        return sqrt(self.r**2+self.i**2)\n"
      ],
      "metadata": {
        "id": "5cIqztdjCXHd"
      },
      "execution_count": 52,
      "outputs": []
    },
    {
      "cell_type": "code",
      "source": [
        "z = Complejo(3, -4)\n",
        "w = Complejo(3, 4)\n",
        "z,w,z*w"
      ],
      "metadata": {
        "colab": {
          "base_uri": "https://localhost:8080/"
        },
        "id": "Yg_ntamvChUu",
        "outputId": "4cb80996-ef13-41ba-a1e3-6783fd9577a4"
      },
      "execution_count": 53,
      "outputs": [
        {
          "output_type": "execute_result",
          "data": {
            "text/plain": [
              "(Complejo(3, -4), Complejo(3, 4), Complejo(25, 0))"
            ]
          },
          "metadata": {},
          "execution_count": 53
        }
      ]
    }
  ]
}