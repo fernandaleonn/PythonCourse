{
  "cells": [
    {
      "cell_type": "markdown",
      "metadata": {
        "id": "view-in-github",
        "colab_type": "text"
      },
      "source": [
        "<a href=\"https://colab.research.google.com/github/fernandaleonn/PythonCourse/blob/main/2023_08_16_control_de_flujo.ipynb\" target=\"_parent\"><img src=\"https://colab.research.google.com/assets/colab-badge.svg\" alt=\"Open In Colab\"/></a>"
      ]
    },
    {
      "cell_type": "markdown",
      "metadata": {
        "id": "WaIybwcMCFaI"
      },
      "source": [
        "Control de flujo\n",
        "================\n",
        "\n",
        "**Date:** 2023-08-16\n",
        "\n"
      ]
    },
    {
      "cell_type": "markdown",
      "metadata": {
        "id": "30Xp--njCFaL"
      },
      "source": [
        "## Control de flujo\n",
        "\n"
      ]
    },
    {
      "cell_type": "markdown",
      "metadata": {
        "id": "6EU_UoOxCFaM"
      },
      "source": [
        "### `if`\n",
        "\n"
      ]
    },
    {
      "cell_type": "code",
      "execution_count": 10,
      "metadata": {
        "colab": {
          "base_uri": "https://localhost:8080/"
        },
        "id": "2-_2QdmTCFaM",
        "outputId": "c4783a07-e969-499b-b32c-c2bd0c00d7b9"
      },
      "outputs": [
        {
          "output_type": "execute_result",
          "data": {
            "text/plain": [
              "['Eunice', 'Eduardo', 'Alejandro', 'Cesar', 'Fernanda', 'Alexa', 'Juan']"
            ]
          },
          "metadata": {},
          "execution_count": 10
        }
      ],
      "source": [
        "inscritos = [\"Eunice\", \"Eduardo\", \"Alejandro\", \"Cesar\", \"Fernanda\"]\n",
        "oyentes = [\"Alexa\", \"Juan\"]\n",
        "estudiantes = inscritos + oyentes\n",
        "estudiantes"
      ]
    },
    {
      "cell_type": "code",
      "execution_count": 14,
      "metadata": {
        "colab": {
          "base_uri": "https://localhost:8080/"
        },
        "id": "IKBGrqHgCFaN",
        "outputId": "8f7fbfe8-0533-493b-ff08-1592db05731c"
      },
      "outputs": [
        {
          "output_type": "stream",
          "name": "stdout",
          "text": [
            "Son muchos estudiantes\n"
          ]
        }
      ],
      "source": [
        "if len(estudiantes) > 5:\n",
        "    print(\"Son muchos estudiantes\")"
      ]
    },
    {
      "cell_type": "code",
      "execution_count": 18,
      "metadata": {
        "colab": {
          "base_uri": "https://localhost:8080/"
        },
        "id": "23OBU06MCFaO",
        "outputId": "ba077354-e387-48b5-87f8-066bbd30de59"
      },
      "outputs": [
        {
          "output_type": "stream",
          "name": "stdout",
          "text": [
            "Son muchos estudiantes\n"
          ]
        }
      ],
      "source": [
        "if len(estudiantes) > 5:\n",
        "    print(\"Son muchos estudiantes\")\n",
        "else:\n",
        "    print(\"Son pocos estudiantes\", end=\". \")\n",
        "    print(\"Ojalá entren oyentes\")"
      ]
    },
    {
      "cell_type": "code",
      "execution_count": 21,
      "metadata": {
        "colab": {
          "base_uri": "https://localhost:8080/"
        },
        "id": "ICzxpFkmCFaO",
        "outputId": "4ac5fd14-0182-4b30-c378-c4b674a27c57"
      },
      "outputs": [
        {
          "output_type": "stream",
          "name": "stdout",
          "text": [
            "Son muchos estudiantes. Ojalá no entren oyentes\n"
          ]
        }
      ],
      "source": [
        "if len(inscritos) <= 3:\n",
        "    print(\"Son cuando mucho tres estudiantes inscritos\")\n",
        "elif len(inscritos) == 4:\n",
        "    print(\"Son cuatro estudiantes\")\n",
        "else:\n",
        "    print(\"Son muchos estudiantes\", end=\". \")\n",
        "    print(\"Ojalá no entren oyentes\")"
      ]
    },
    {
      "cell_type": "markdown",
      "metadata": {
        "id": "6zZPuCgvCFaP"
      },
      "source": [
        "### `for`\n",
        "\n"
      ]
    },
    {
      "cell_type": "code",
      "execution_count": 5,
      "metadata": {
        "colab": {
          "base_uri": "https://localhost:8080/"
        },
        "id": "ovJIfPxgCFaP",
        "outputId": "38668976-a1b4-4e1e-fc74-e73fe46d06b8"
      },
      "outputs": [
        {
          "output_type": "stream",
          "name": "stdout",
          "text": [
            "Hola Eunice ¿Cómo estás?\n",
            "Hola Eduardo ¿Cómo estás?\n",
            "Hola Alejandro ¿Cómo estás?\n",
            "Hola Cesar ¿Cómo estás?\n",
            "Hola Fernanda ¿Cómo estás?\n",
            "Hola Alexa ¿Cómo estás?\n",
            "Hola Juan ¿Cómo estás?\n"
          ]
        }
      ],
      "source": [
        "for estudiante in estudiantes:\n",
        "    print(\"Hola\", estudiante, \"¿Cómo estás?\")"
      ]
    },
    {
      "cell_type": "code",
      "execution_count": 6,
      "metadata": {
        "colab": {
          "base_uri": "https://localhost:8080/"
        },
        "id": "eyumyOBdCFaQ",
        "outputId": "b67da4cc-152f-45f2-ded5-275a07469a00"
      },
      "outputs": [
        {
          "output_type": "stream",
          "name": "stdout",
          "text": [
            "Hola Eunice\n",
            "Hola Eduardo\n",
            "Hola Alejandro\n",
            "Hola Cesar\n",
            "Hola Fernanda\n",
            "Hola Alexa\n",
            "Hola Juan\n"
          ]
        }
      ],
      "source": [
        "for i in range(len(estudiantes)):\n",
        "    print(\"Hola\", estudiantes[i])"
      ]
    },
    {
      "cell_type": "code",
      "execution_count": 27,
      "metadata": {
        "colab": {
          "base_uri": "https://localhost:8080/"
        },
        "id": "CKESLSF2CFaQ",
        "outputId": "e4730221-47e2-40a6-b79c-f8ddc421b302"
      },
      "outputs": [
        {
          "output_type": "stream",
          "name": "stdout",
          "text": [
            "5\n",
            "3\n",
            "1\n",
            "-1\n"
          ]
        }
      ],
      "source": [
        "for j in range(5, -3, -2):\n",
        "    print(j)\n",
        "    if j == 0:\n",
        "        print(\"Booom\")"
      ]
    },
    {
      "cell_type": "code",
      "source": [
        "list(range(0,7))"
      ],
      "metadata": {
        "colab": {
          "base_uri": "https://localhost:8080/"
        },
        "id": "0IaSdKnSG_Y1",
        "outputId": "9f065b28-d385-4f61-b790-9380194f5d17"
      },
      "execution_count": 30,
      "outputs": [
        {
          "output_type": "execute_result",
          "data": {
            "text/plain": [
              "[0, 1, 2, 3, 4, 5, 6]"
            ]
          },
          "metadata": {},
          "execution_count": 30
        }
      ]
    },
    {
      "cell_type": "code",
      "source": [
        "list(range(5,-3,-2))"
      ],
      "metadata": {
        "colab": {
          "base_uri": "https://localhost:8080/"
        },
        "id": "kK7_g08LHhZD",
        "outputId": "139df3a4-c088-4282-e3aa-fdddc5d0281e"
      },
      "execution_count": 31,
      "outputs": [
        {
          "output_type": "execute_result",
          "data": {
            "text/plain": [
              "[5, 3, 1, -1]"
            ]
          },
          "metadata": {},
          "execution_count": 31
        }
      ]
    },
    {
      "cell_type": "code",
      "source": [
        "range(5,100,2)"
      ],
      "metadata": {
        "colab": {
          "base_uri": "https://localhost:8080/"
        },
        "id": "nyTQgs7yHum0",
        "outputId": "b7a7f347-4e0c-4596-daa8-25d5a0be5a94"
      },
      "execution_count": 32,
      "outputs": [
        {
          "output_type": "execute_result",
          "data": {
            "text/plain": [
              "range(5, 100, 2)"
            ]
          },
          "metadata": {},
          "execution_count": 32
        }
      ]
    },
    {
      "cell_type": "markdown",
      "source": [
        "range es un rango que va del 5 al valor anterior a 100, en este caso 99, con pasitos de 2 en 2"
      ],
      "metadata": {
        "id": "hgDeIZs-H2RG"
      }
    },
    {
      "cell_type": "markdown",
      "source": [
        "range solo es una instruccion que va guardando los numeros, solo los va almacenando, pero al utilizar list, ya vemos el listado de cada uno de los numeros"
      ],
      "metadata": {
        "id": "tPtXKIX_IO-O"
      }
    },
    {
      "cell_type": "code",
      "execution_count": 8,
      "metadata": {
        "colab": {
          "base_uri": "https://localhost:8080/"
        },
        "id": "XdX0x-D5CFaR",
        "outputId": "f6ebaea3-663b-431d-a0b7-0c3a95b5dbc9"
      },
      "outputs": [
        {
          "output_type": "execute_result",
          "data": {
            "text/plain": [
              "range(0, 7897987978979779878979797987987979779797979)"
            ]
          },
          "metadata": {},
          "execution_count": 8
        }
      ],
      "source": [
        "range(7897987978979779878979797987987979779797979)"
      ]
    },
    {
      "cell_type": "markdown",
      "metadata": {
        "id": "5XQwSDKiCFaR"
      },
      "source": [
        "La suma de todos los números del 1 al 100.\n",
        "\n"
      ]
    },
    {
      "cell_type": "code",
      "execution_count": 9,
      "metadata": {
        "colab": {
          "base_uri": "https://localhost:8080/"
        },
        "id": "2doTjHr6CFaR",
        "outputId": "45ed2b4a-83cb-4996-ca94-78d6d71142e4"
      },
      "outputs": [
        {
          "output_type": "execute_result",
          "data": {
            "text/plain": [
              "5050"
            ]
          },
          "metadata": {},
          "execution_count": 9
        }
      ],
      "source": [
        "sum(range(101))"
      ]
    },
    {
      "cell_type": "markdown",
      "source": [
        "Suma de Gauss"
      ],
      "metadata": {
        "id": "vUkM37X5IjgG"
      }
    },
    {
      "cell_type": "markdown",
      "metadata": {
        "id": "Wpv6dsDDCFaR"
      },
      "source": [
        "### break, continue y else en ciclos for\n",
        "\n"
      ]
    },
    {
      "cell_type": "markdown",
      "metadata": {
        "id": "o8bPuS11CFaS"
      },
      "source": [
        "#### break\n",
        "\n"
      ]
    },
    {
      "cell_type": "markdown",
      "metadata": {
        "id": "uVFCTeaxCFaS"
      },
      "source": [
        "`break` sirve para interrumpir un ciclo for.\n",
        "\n"
      ]
    },
    {
      "cell_type": "code",
      "execution_count": 33,
      "metadata": {
        "colab": {
          "base_uri": "https://localhost:8080/"
        },
        "id": "wbogkoC6CFaS",
        "outputId": "8ee9f1d4-c7b2-4f5d-9b70-5ff5d0fa0a5e"
      },
      "outputs": [
        {
          "output_type": "stream",
          "name": "stdout",
          "text": [
            "Hola Eunice ¿Cómo estás?\n",
            "Hola Eduardo ¿Cómo estás?\n",
            "Hola Alejandro ¿Cómo estás?\n",
            "Hola Cesar ¿Cómo estás?\n",
            "Hola Fernanda ¿Cómo estás?\n",
            "Ya saludé a los inscritos\n"
          ]
        }
      ],
      "source": [
        "for estudiante in estudiantes:\n",
        "    print(\"Hola\", estudiante, \"¿Cómo estás?\")\n",
        "    if estudiante == \"Fernanda\":\n",
        "        break\n",
        "\n",
        "print(\"Ya saludé a los inscritos\")"
      ]
    },
    {
      "cell_type": "markdown",
      "metadata": {
        "id": "o4Y7y6u4CFaS"
      },
      "source": [
        "#### else en un ciclo for\n",
        "\n"
      ]
    },
    {
      "cell_type": "markdown",
      "metadata": {
        "id": "vx8j68fvCFaS"
      },
      "source": [
        "La cláusula `else` en un ciclo `for` se ejecuta cuando el ciclo `for` termina de manera \"natural\", sin haber pasado por una cláusula `break`.\n",
        "\n"
      ]
    },
    {
      "cell_type": "code",
      "execution_count": 35,
      "metadata": {
        "colab": {
          "base_uri": "https://localhost:8080/"
        },
        "id": "W8F46SI8CFaT",
        "outputId": "9c5170bc-ec6f-46eb-d089-afa4cf044983"
      },
      "outputs": [
        {
          "output_type": "stream",
          "name": "stdout",
          "text": [
            "2 es un número primo\n",
            "3 es un número primo\n",
            "4 es igual a 2 * 2\n",
            "5 es un número primo\n",
            "6 es igual a 2 * 3\n",
            "7 es un número primo\n",
            "8 es igual a 2 * 4\n",
            "9 es igual a 3 * 3\n",
            "10 es igual a 2 * 5\n",
            "11 es un número primo\n",
            "12 es igual a 2 * 6\n",
            "13 es un número primo\n",
            "14 es igual a 2 * 7\n",
            "15 es igual a 3 * 5\n",
            "16 es igual a 2 * 8\n",
            "17 es un número primo\n",
            "18 es igual a 2 * 9\n",
            "19 es un número primo\n",
            "20 es igual a 2 * 10\n",
            "21 es igual a 3 * 7\n",
            "22 es igual a 2 * 11\n",
            "23 es un número primo\n",
            "24 es igual a 2 * 12\n",
            "25 es igual a 5 * 5\n",
            "26 es igual a 2 * 13\n",
            "27 es igual a 3 * 9\n",
            "28 es igual a 2 * 14\n",
            "29 es un número primo\n"
          ]
        }
      ],
      "source": [
        "for n in range(2, 30):\n",
        "    for x in range(2, n):\n",
        "        if n % x == 0:\n",
        "            print(n, 'es igual a', x, '*', n//x)\n",
        "            break\n",
        "    else:\n",
        "        # se terminó de checar posibles divisores sin encontrar uno\n",
        "        print(n, 'es un número primo')"
      ]
    },
    {
      "cell_type": "markdown",
      "metadata": {
        "id": "YOoqgw1ZCFaU"
      },
      "source": [
        "#### continue: la diferencia entre el break y el continue es que el primero trunca el programa, se detiene al leer la instrucción, pero continue sigue hasta acabar\n",
        "\n"
      ]
    },
    {
      "cell_type": "code",
      "execution_count": 42,
      "metadata": {
        "colab": {
          "base_uri": "https://localhost:8080/"
        },
        "id": "0WIEGImtCFaU",
        "outputId": "44ce7122-69c1-4da2-df53-35dfff07bbed"
      },
      "outputs": [
        {
          "output_type": "stream",
          "name": "stdout",
          "text": [
            "Hola Eunice ¿Cómo estás?\n",
            "¿Qué materias estás llevando, Eunice ?\n",
            "Hola Eduardo ¿Cómo estás?\n",
            "¿Qué materias estás llevando, Eduardo ?\n",
            "Hola Alejandro ¿Cómo estás?\n",
            "¿Qué materias estás llevando, Alejandro ?\n",
            "Hola Cesar ¿Cómo estás?\n",
            "¿Qué materias estás llevando, Cesar ?\n",
            "Hola Fernanda ¿Cómo estás?\n",
            "¿Qué materias estás llevando, Fernanda ?\n",
            "Hola Alexa ¿Cómo estás?\n"
          ]
        }
      ],
      "source": [
        "for estudiante in estudiantes:\n",
        "    print(\"Hola\", estudiante, \"¿Cómo estás?\")\n",
        "    if estudiante in [\"Alexa\", \"Juan\"]:\n",
        "        break\n",
        "    print(\"¿Qué materias estás llevando,\", estudiante,\"?\")"
      ]
    },
    {
      "cell_type": "code",
      "source": [
        "for estudiante in estudiantes:\n",
        "    print(\"Hola\", estudiante, \"¿Cómo estás?\")\n",
        "    if estudiante in [\"Alexa\", \"Juan\"]:\n",
        "        continue\n",
        "    print(\"¿Qué materias estás llevando,\", estudiante,\"?\")"
      ],
      "metadata": {
        "colab": {
          "base_uri": "https://localhost:8080/"
        },
        "id": "vB4cfzCkL392",
        "outputId": "311598ff-d523-4ed3-8236-7c2a0645ca78"
      },
      "execution_count": 43,
      "outputs": [
        {
          "output_type": "stream",
          "name": "stdout",
          "text": [
            "Hola Eunice ¿Cómo estás?\n",
            "¿Qué materias estás llevando, Eunice ?\n",
            "Hola Eduardo ¿Cómo estás?\n",
            "¿Qué materias estás llevando, Eduardo ?\n",
            "Hola Alejandro ¿Cómo estás?\n",
            "¿Qué materias estás llevando, Alejandro ?\n",
            "Hola Cesar ¿Cómo estás?\n",
            "¿Qué materias estás llevando, Cesar ?\n",
            "Hola Fernanda ¿Cómo estás?\n",
            "¿Qué materias estás llevando, Fernanda ?\n",
            "Hola Alexa ¿Cómo estás?\n",
            "Hola Juan ¿Cómo estás?\n"
          ]
        }
      ]
    },
    {
      "cell_type": "markdown",
      "metadata": {
        "id": "73AU-KXFCFaU"
      },
      "source": [
        "#### pass: no hace nada extra al agregarlo, pero sirve para cumplir con la sintaxis\n",
        "\n"
      ]
    },
    {
      "cell_type": "markdown",
      "metadata": {
        "id": "Iq9fVlLeCFaV"
      },
      "source": [
        "La claúsula `pass` no hace nada, pero puede servir para que un programa incompleto sea sintácticamente correcto.\n",
        "\n"
      ]
    },
    {
      "cell_type": "code",
      "execution_count": 48,
      "metadata": {
        "colab": {
          "base_uri": "https://localhost:8080/"
        },
        "id": "M8fWZs3ECFaV",
        "outputId": "4cdb9375-9984-4b2f-b8b7-8cc64127ff53"
      },
      "outputs": [
        {
          "output_type": "stream",
          "name": "stdout",
          "text": [
            "Hola Eunice ¿Cómo estás?\n",
            "Hola Eduardo ¿Cómo estás?\n",
            "Hola Alejandro ¿Cómo estás?\n",
            "Hola Cesar ¿Cómo estás?\n",
            "Hola Fernanda ¿Cómo estás?\n",
            "Hola Alexa ¿Cómo estás?\n",
            "Hola Juan ¿Cómo estás?\n"
          ]
        }
      ],
      "source": [
        "for estudiante in estudiantes:\n",
        "    print(\"Hola\", estudiante, \"¿Cómo estás?\")\n",
        "    if estudiante in [\"Alexa\", \"Juan\"]:\n",
        "      pass\n",
        ""
      ]
    },
    {
      "cell_type": "code",
      "execution_count": 49,
      "metadata": {
        "colab": {
          "base_uri": "https://localhost:8080/"
        },
        "id": "eCfk_z_ACFaV",
        "outputId": "9e3b9e66-e5ea-4bd6-cf49-ff6c77e1f2da"
      },
      "outputs": [
        {
          "output_type": "stream",
          "name": "stdout",
          "text": [
            "Hola Eunice ¿Cómo estás?\n",
            "Hola Eduardo ¿Cómo estás?\n",
            "Hola Alejandro ¿Cómo estás?\n",
            "Hola Cesar ¿Cómo estás?\n",
            "Hola Fernanda ¿Cómo estás?\n",
            "Hola Alexa ¿Cómo estás?\n",
            "Hola Alexa ¿Eres oyente?\n",
            "Hola Juan ¿Cómo estás?\n",
            "Hola Juan ¿Eres oyente?\n"
          ]
        }
      ],
      "source": [
        "for estudiante in estudiantes:\n",
        "    print(\"Hola\", estudiante, \"¿Cómo estás?\")\n",
        "    if estudiante in [\"Alexa\", \"Juan\"]:\n",
        "        print(\"Hola\", estudiante, \"¿Eres oyente?\")"
      ]
    }
  ],
  "metadata": {
    "kernelspec": {
      "display_name": "Python 3",
      "language": "python",
      "name": "python3"
    },
    "language_info": {
      "codemirror_mode": {
        "name": "ipython",
        "version": 3
      },
      "file_extension": ".py",
      "mimetype": "text/x-python",
      "name": "python",
      "nbconvert_exporter": "python",
      "pygments_lexer": "ipython3",
      "version": "3.9.2"
    },
    "org": null,
    "colab": {
      "provenance": [],
      "include_colab_link": true
    }
  },
  "nbformat": 4,
  "nbformat_minor": 0
}