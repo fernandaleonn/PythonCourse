{
  "nbformat": 4,
  "nbformat_minor": 0,
  "metadata": {
    "colab": {
      "provenance": [],
      "authorship_tag": "ABX9TyOHQ7dro6H+U574irtmQ7xT",
      "include_colab_link": true
    },
    "kernelspec": {
      "name": "python3",
      "display_name": "Python 3"
    },
    "language_info": {
      "name": "python"
    }
  },
  "cells": [
    {
      "cell_type": "markdown",
      "metadata": {
        "id": "view-in-github",
        "colab_type": "text"
      },
      "source": [
        "<a href=\"https://colab.research.google.com/github/fernandaleonn/PythonCourse/blob/main/SerieFIBONACCI.ipynb\" target=\"_parent\"><img src=\"https://colab.research.google.com/assets/colab-badge.svg\" alt=\"Open In Colab\"/></a>"
      ]
    },
    {
      "cell_type": "markdown",
      "source": [
        "**SERIE DE FIBONACCI**"
      ],
      "metadata": {
        "id": "EGZpD40gLMjD"
      }
    },
    {
      "cell_type": "markdown",
      "source": [
        "La serie de Fibonacci es una de las secuencias de números más famosas de la historia, conocida también como la \"secuencia divina\".\n",
        "La sucesión comienza con los números 0 y 1; a partir de estos, cada término es la suma de los dos anteriores.\n",
        "\n",
        "Con el presente programa buscamos mostrar con ayuda de funciones los números de Fibonacci menores que el número 10**20, los cuales tienen una potencia exacta.  \n",
        "\n",
        "Y en el presente articulo podemos conocer más acerca de estos números, ya que este nos muestra que las potencias perfectas en dicha sucesión son muy extraordinarias.\n",
        "\n",
        "Artículo: https://annals.math.princeton.edu/2006/163-3/p05"
      ],
      "metadata": {
        "id": "5bI_b5t6Jm2C"
      }
    },
    {
      "cell_type": "code",
      "source": [
        "from sympy import sqrt\n",
        "\n",
        "def es_pot(n,pot=2):\n",
        "    return int(n**(1/pot)) ** pot == n\n",
        "\n",
        "def cuadrados_fibonacci(n,pot=2):\n",
        "    fibs = []\n",
        "    a, b = 0, 1\n",
        "    while a < n:\n",
        "        if es_pot(a,pot):\n",
        "            fibs.append(a)\n",
        "        a, b = b, a+b\n",
        "    return fibs\n",
        "\n",
        "cuadrados_fibonacci(10**20,pot=2)"
      ],
      "metadata": {
        "colab": {
          "base_uri": "https://localhost:8080/"
        },
        "id": "m5f8vKG6bF7a",
        "outputId": "b48d406c-d208-4d8f-d758-a2f62365a098"
      },
      "execution_count": null,
      "outputs": [
        {
          "output_type": "execute_result",
          "data": {
            "text/plain": [
              "[0, 1, 1]"
            ]
          },
          "metadata": {},
          "execution_count": 62
        }
      ]
    }
  ]
}