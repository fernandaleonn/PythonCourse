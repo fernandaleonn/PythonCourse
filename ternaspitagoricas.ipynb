{
  "nbformat": 4,
  "nbformat_minor": 0,
  "metadata": {
    "colab": {
      "provenance": [],
      "authorship_tag": "ABX9TyNFrnYQJFRpb6QT0nhECr8K",
      "include_colab_link": true
    },
    "kernelspec": {
      "name": "python3",
      "display_name": "Python 3"
    },
    "language_info": {
      "name": "python"
    }
  },
  "cells": [
    {
      "cell_type": "markdown",
      "metadata": {
        "id": "view-in-github",
        "colab_type": "text"
      },
      "source": [
        "<a href=\"https://colab.research.google.com/github/fernandaleonn/PythonCourse/blob/main/ternaspitagoricas.ipynb\" target=\"_parent\"><img src=\"https://colab.research.google.com/assets/colab-badge.svg\" alt=\"Open In Colab\"/></a>"
      ]
    },
    {
      "cell_type": "markdown",
      "source": [
        "**Terna pitagórica**"
      ],
      "metadata": {
        "id": "LoOsoHF-Ov2Q"
      }
    },
    {
      "cell_type": "markdown",
      "source": [
        "Una terna pitagórica es un grupo de tres números naturales a, b y c que verifican: a^2=b^2+c^2. Es decir, tres números naturales que pueden ser las medidas de los lados de un triángulo rectángulo y que, por tanto, verifican el Teorema de Pitágoras. De ahí su nombre."
      ],
      "metadata": {
        "id": "tOuqsHLBPDJk"
      }
    },
    {
      "cell_type": "markdown",
      "source": [
        "**Problema:**  Clasificar todas las ternas pitagóricas (x,y,z) tales que **x**,y,z≤1000"
      ],
      "metadata": {
        "id": "HaYKCjA6QVTr"
      }
    },
    {
      "cell_type": "markdown",
      "source": [
        "El siguiente programa nos muestra las ternas pitagoricas para valores de x,y,z menores a 50"
      ],
      "metadata": {
        "id": "I5r-yV8MYIOb"
      }
    },
    {
      "cell_type": "code",
      "execution_count": null,
      "metadata": {
        "colab": {
          "base_uri": "https://localhost:8080/"
        },
        "id": "RQbc4HsXRi9x",
        "outputId": "da854ebb-61fc-4f41-f619-15bbd408fd67"
      },
      "outputs": [
        {
          "output_type": "execute_result",
          "data": {
            "text/plain": [
              "[(3, 4, 5),\n",
              " (5, 12, 13),\n",
              " (6, 8, 10),\n",
              " (7, 24, 25),\n",
              " (8, 15, 17),\n",
              " (9, 12, 15),\n",
              " (9, 40, 41),\n",
              " (10, 24, 26),\n",
              " (12, 16, 20),\n",
              " (12, 35, 37),\n",
              " (15, 20, 25),\n",
              " (15, 36, 39),\n",
              " (16, 30, 34),\n",
              " (18, 24, 30),\n",
              " (20, 21, 29),\n",
              " (21, 28, 35),\n",
              " (24, 32, 40),\n",
              " (27, 36, 45)]"
            ]
          },
          "metadata": {},
          "execution_count": 19
        }
      ],
      "source": [
        "ternas=[(a,b,c)\n",
        "for a in range(1,50)\n",
        "  for b in range(a,50)\n",
        "    for c in range(b,50)\n",
        "      if a**2+b**2==c**2]\n",
        "terna1=[(a,b,c) for (a,b,c) in ternas if a<b<c]\n",
        "terna1\n",
        "\n",
        "\n",
        "\n",
        "\n",
        "\n"
      ]
    }
  ]
}