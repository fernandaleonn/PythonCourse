{
  "cells": [
    {
      "cell_type": "markdown",
      "metadata": {
        "id": "view-in-github",
        "colab_type": "text"
      },
      "source": [
        "<a href=\"https://colab.research.google.com/github/fernandaleonn/PythonCourse/blob/main/2023_08_09_numeros_cadenas_M.ipynb\" target=\"_parent\"><img src=\"https://colab.research.google.com/assets/colab-badge.svg\" alt=\"Open In Colab\"/></a>"
      ]
    },
    {
      "cell_type": "markdown",
      "metadata": {
        "id": "b3s45cmkI1VD"
      },
      "source": [
        "Números y cadenas\n",
        "=================\n",
        "\n",
        "**Date:** 2022-01-25\n",
        "\n"
      ]
    },
    {
      "cell_type": "markdown",
      "metadata": {
        "id": "Zgi_bBiDI1VG"
      },
      "source": [
        "## Números\n",
        "\n"
      ]
    },
    {
      "cell_type": "code",
      "execution_count": 2,
      "metadata": {
        "colab": {
          "base_uri": "https://localhost:8080/"
        },
        "id": "g7K6V7LiI1VH",
        "outputId": "5e91a2fc-b355-46eb-a4d4-ab4b0c36f106"
      },
      "outputs": [
        {
          "output_type": "execute_result",
          "data": {
            "text/plain": [
              "1.8181818181818181"
            ]
          },
          "metadata": {},
          "execution_count": 2
        }
      ],
      "source": [
        "(50 - 5*6)/11"
      ]
    },
    {
      "cell_type": "code",
      "execution_count": 3,
      "metadata": {
        "colab": {
          "base_uri": "https://localhost:8080/"
        },
        "id": "c5FWavqPI1VI",
        "outputId": "0ee554e1-c6d1-44ab-992e-3e94b2bb88f5"
      },
      "outputs": [
        {
          "output_type": "execute_result",
          "data": {
            "text/plain": [
              "(float, int)"
            ]
          },
          "metadata": {},
          "execution_count": 3
        }
      ],
      "source": [
        "type(5.0), type(5)"
      ]
    },
    {
      "cell_type": "code",
      "execution_count": 4,
      "metadata": {
        "colab": {
          "base_uri": "https://localhost:8080/"
        },
        "id": "ioFZEBBPI1VJ",
        "outputId": "df0c48a7-58b0-44ad-a2ee-9e16b7884108"
      },
      "outputs": [
        {
          "output_type": "execute_result",
          "data": {
            "text/plain": [
              "10.0"
            ]
          },
          "metadata": {},
          "execution_count": 4
        }
      ],
      "source": [
        "6 + (8/2)"
      ]
    },
    {
      "cell_type": "code",
      "execution_count": null,
      "metadata": {
        "colab": {
          "base_uri": "https://localhost:8080/"
        },
        "id": "o09GyN5MI1VJ",
        "outputId": "fa97a1f9-46ed-46a1-c484-1c92675f8bc3"
      },
      "outputs": [
        {
          "output_type": "execute_result",
          "data": {
            "text/plain": [
              "True"
            ]
          },
          "metadata": {},
          "execution_count": 4
        }
      ],
      "source": [
        "4 == 4.0"
      ]
    },
    {
      "cell_type": "code",
      "execution_count": 5,
      "metadata": {
        "colab": {
          "base_uri": "https://localhost:8080/"
        },
        "id": "oCAvo2o_I1VJ",
        "outputId": "657ca32d-bc66-4c83-9c08-5c656c6bf2e6"
      },
      "outputs": [
        {
          "output_type": "execute_result",
          "data": {
            "text/plain": [
              "3.3333333333333335"
            ]
          },
          "metadata": {},
          "execution_count": 5
        }
      ],
      "source": [
        "10/3"
      ]
    },
    {
      "cell_type": "code",
      "execution_count": null,
      "metadata": {
        "colab": {
          "base_uri": "https://localhost:8080/"
        },
        "id": "lahCgQ_wI1VJ",
        "outputId": "45499826-91bd-41e1-db94-1f743238f0fc"
      },
      "outputs": [
        {
          "output_type": "execute_result",
          "data": {
            "text/plain": [
              "10.000000000000002"
            ]
          },
          "metadata": {},
          "execution_count": 6
        }
      ],
      "source": [
        "(10**(1/2))**2"
      ]
    },
    {
      "cell_type": "code",
      "execution_count": 8,
      "metadata": {
        "id": "5EvQTcLLI1VJ",
        "colab": {
          "base_uri": "https://localhost:8080/"
        },
        "outputId": "db0b2a23-1fab-4957-98ac-80a5e655b1d8"
      },
      "outputs": [
        {
          "output_type": "execute_result",
          "data": {
            "text/plain": [
              "True"
            ]
          },
          "metadata": {},
          "execution_count": 8
        }
      ],
      "source": [
        "10.0000000000000000000000000000000001 == 10"
      ]
    },
    {
      "cell_type": "code",
      "execution_count": 9,
      "metadata": {
        "colab": {
          "base_uri": "https://localhost:8080/"
        },
        "id": "ARzFoZoWI1VJ",
        "outputId": "d9b1985f-0568-4a3e-e6d2-350264da11bc"
      },
      "outputs": [
        {
          "output_type": "execute_result",
          "data": {
            "text/plain": [
              "True"
            ]
          },
          "metadata": {},
          "execution_count": 9
        }
      ],
      "source": [
        "from sympy import sqrt\n",
        "\n",
        "sqrt(8)**2 == 8"
      ]
    },
    {
      "cell_type": "code",
      "source": [
        "sqrt(8)"
      ],
      "metadata": {
        "colab": {
          "base_uri": "https://localhost:8080/",
          "height": 38
        },
        "id": "EkbXaTnxr6t8",
        "outputId": "c446efc9-9a65-4bc6-e9c4-6126fe0afc32"
      },
      "execution_count": 10,
      "outputs": [
        {
          "output_type": "execute_result",
          "data": {
            "text/plain": [
              "2*sqrt(2)"
            ],
            "text/latex": "$\\displaystyle 2 \\sqrt{2}$"
          },
          "metadata": {},
          "execution_count": 10
        }
      ]
    },
    {
      "cell_type": "markdown",
      "metadata": {
        "id": "_QrZUoPyI1VK"
      },
      "source": [
        "División con dos diagonales da división entera:\n",
        "\n"
      ]
    },
    {
      "cell_type": "code",
      "execution_count": 11,
      "metadata": {
        "id": "ugKQ9pXiI1VK",
        "colab": {
          "base_uri": "https://localhost:8080/"
        },
        "outputId": "8c307100-72ed-47a5-94ac-e95f7df7a707"
      },
      "outputs": [
        {
          "output_type": "execute_result",
          "data": {
            "text/plain": [
              "4"
            ]
          },
          "metadata": {},
          "execution_count": 11
        }
      ],
      "source": [
        "23 // 5"
      ]
    },
    {
      "cell_type": "code",
      "execution_count": 12,
      "metadata": {
        "id": "di9pNu12I1VK",
        "colab": {
          "base_uri": "https://localhost:8080/"
        },
        "outputId": "3715ec47-f126-4548-ab35-44ee861abfd8"
      },
      "outputs": [
        {
          "output_type": "execute_result",
          "data": {
            "text/plain": [
              "int"
            ]
          },
          "metadata": {},
          "execution_count": 12
        }
      ],
      "source": [
        "type(23 // 5)"
      ]
    },
    {
      "cell_type": "markdown",
      "source": [
        "Dividir dos números entre % nos da el valor del cociente"
      ],
      "metadata": {
        "id": "XXeKbPjFzqBU"
      }
    },
    {
      "cell_type": "code",
      "execution_count": 13,
      "metadata": {
        "id": "vQYCtabYI1VK",
        "colab": {
          "base_uri": "https://localhost:8080/"
        },
        "outputId": "4ffa449a-fc45-4859-f026-f33f5f467053"
      },
      "outputs": [
        {
          "output_type": "execute_result",
          "data": {
            "text/plain": [
              "3"
            ]
          },
          "metadata": {},
          "execution_count": 13
        }
      ],
      "source": [
        "23 % 5"
      ]
    },
    {
      "cell_type": "code",
      "execution_count": 14,
      "metadata": {
        "id": "FBJBg4fcI1VK",
        "colab": {
          "base_uri": "https://localhost:8080/"
        },
        "outputId": "ecb5c047-ca93-42b9-debd-fc590bf00055"
      },
      "outputs": [
        {
          "output_type": "execute_result",
          "data": {
            "text/plain": [
              "100"
            ]
          },
          "metadata": {},
          "execution_count": 14
        }
      ],
      "source": [
        "width = 20\n",
        "height = 5\n",
        "width * height"
      ]
    },
    {
      "cell_type": "code",
      "execution_count": 15,
      "metadata": {
        "id": "LIt3RfQOI1VK",
        "colab": {
          "base_uri": "https://localhost:8080/"
        },
        "outputId": "041ff5e2-2995-4291-f9bd-d5bc646a79e5"
      },
      "outputs": [
        {
          "output_type": "execute_result",
          "data": {
            "text/plain": [
              "100"
            ]
          },
          "metadata": {},
          "execution_count": 15
        }
      ],
      "source": [
        "area_rectangle = width*height\n",
        "area_rectangle"
      ]
    },
    {
      "cell_type": "code",
      "execution_count": 16,
      "metadata": {
        "id": "-tS_D7eNI1VK",
        "colab": {
          "base_uri": "https://localhost:8080/"
        },
        "outputId": "2bf55f23-c3ac-46bb-c68b-962eba6300a5"
      },
      "outputs": [
        {
          "output_type": "execute_result",
          "data": {
            "text/plain": [
              "Fraction(23, 6)"
            ]
          },
          "metadata": {},
          "execution_count": 16
        }
      ],
      "source": [
        "from fractions import Fraction\n",
        "\n",
        "Fraction(1, 2) + Fraction(1, 3) + 3"
      ]
    },
    {
      "cell_type": "code",
      "execution_count": 17,
      "metadata": {
        "id": "QuGgx-XeI1VL",
        "colab": {
          "base_uri": "https://localhost:8080/"
        },
        "outputId": "3888f5e0-d3e1-4be2-e1ba-70c84a73249a"
      },
      "outputs": [
        {
          "output_type": "execute_result",
          "data": {
            "text/plain": [
              "fractions.Fraction"
            ]
          },
          "metadata": {},
          "execution_count": 17
        }
      ],
      "source": [
        "type(Fraction(1,2))"
      ]
    },
    {
      "cell_type": "code",
      "execution_count": 18,
      "metadata": {
        "id": "zN2xOLKcI1VL",
        "colab": {
          "base_uri": "https://localhost:8080/"
        },
        "outputId": "545c8b46-a9a3-4580-d389-fd8f020238ec"
      },
      "outputs": [
        {
          "output_type": "execute_result",
          "data": {
            "text/plain": [
              "0.8333333333333333"
            ]
          },
          "metadata": {},
          "execution_count": 18
        }
      ],
      "source": [
        "1/2 + 1/3"
      ]
    },
    {
      "cell_type": "markdown",
      "source": [
        "División de complejos: para hacer esto multiplicamos dicha división por un 1, el cual es la división del conjugado del denominador"
      ],
      "metadata": {
        "id": "EzIlXoQqzxGJ"
      }
    },
    {
      "cell_type": "code",
      "execution_count": 19,
      "metadata": {
        "id": "Marw2PkDI1VL",
        "colab": {
          "base_uri": "https://localhost:8080/"
        },
        "outputId": "8b49c742-8323-4b99-b24c-297c8cdc65f4"
      },
      "outputs": [
        {
          "output_type": "execute_result",
          "data": {
            "text/plain": [
              "(-0.2-2.6j)"
            ]
          },
          "metadata": {},
          "execution_count": 19
        }
      ],
      "source": [
        "(3+5j)/(-2+1j)"
      ]
    },
    {
      "cell_type": "markdown",
      "metadata": {
        "id": "PEKdaEUlI1VL"
      },
      "source": [
        "## Cadenas\n",
        "\n"
      ]
    },
    {
      "cell_type": "code",
      "execution_count": 20,
      "metadata": {
        "id": "i-0A0iOLI1VL",
        "colab": {
          "base_uri": "https://localhost:8080/",
          "height": 36
        },
        "outputId": "fff08924-c16b-4770-a179-6bd310801d15"
      },
      "outputs": [
        {
          "output_type": "execute_result",
          "data": {
            "text/plain": [
              "'hola mundo'"
            ],
            "application/vnd.google.colaboratory.intrinsic+json": {
              "type": "string"
            }
          },
          "metadata": {},
          "execution_count": 20
        }
      ],
      "source": [
        "greeting = \"hola \"+\"mundo\"\n",
        "greeting"
      ]
    },
    {
      "cell_type": "code",
      "execution_count": 21,
      "metadata": {
        "id": "y4zs2xLuI1VL",
        "colab": {
          "base_uri": "https://localhost:8080/",
          "height": 36
        },
        "outputId": "df154c68-235d-4126-c457-c76a524e7dfa"
      },
      "outputs": [
        {
          "output_type": "execute_result",
          "data": {
            "text/plain": [
              "'n'"
            ],
            "application/vnd.google.colaboratory.intrinsic+json": {
              "type": "string"
            }
          },
          "metadata": {},
          "execution_count": 21
        }
      ],
      "source": [
        "greeting[-3]"
      ]
    },
    {
      "cell_type": "code",
      "execution_count": 22,
      "metadata": {
        "id": "XXwX81w7I1VL",
        "colab": {
          "base_uri": "https://localhost:8080/"
        },
        "outputId": "cf1d43d7-96f4-4726-a69e-e2d9d4a25aa2"
      },
      "outputs": [
        {
          "output_type": "stream",
          "name": "stdout",
          "text": [
            "\"Hola\"\n",
            "they said.\n"
          ]
        }
      ],
      "source": [
        "a='\"Hola\"\\nthey said.'\n",
        "print(a)"
      ]
    },
    {
      "cell_type": "code",
      "execution_count": 23,
      "metadata": {
        "id": "MsY6ZBeDI1VL",
        "colab": {
          "base_uri": "https://localhost:8080/"
        },
        "outputId": "8fe78950-9c97-4305-a2da-06250b6945ff"
      },
      "outputs": [
        {
          "output_type": "stream",
          "name": "stdout",
          "text": [
            "C:\\some\n",
            "ame\n"
          ]
        }
      ],
      "source": [
        "print('C:\\some\\name')"
      ]
    },
    {
      "cell_type": "markdown",
      "metadata": {
        "id": "IxRKBwFcI1VL"
      },
      "source": [
        "Si ponemos una `r` antes de la cadena, eso le quita el significado especial a la combinación `\\n`. (`r` significa `raw`.)\n",
        "\n"
      ]
    },
    {
      "cell_type": "code",
      "execution_count": 25,
      "metadata": {
        "id": "24QJwYbFI1VM",
        "colab": {
          "base_uri": "https://localhost:8080/"
        },
        "outputId": "c1415b80-6167-4a4e-c3e5-1dec5cc8ed0c"
      },
      "outputs": [
        {
          "output_type": "stream",
          "name": "stdout",
          "text": [
            "C:\\some\\name\n"
          ]
        }
      ],
      "source": [
        "print(r'C:\\some\\name')"
      ]
    },
    {
      "cell_type": "code",
      "execution_count": 26,
      "metadata": {
        "id": "oPZO3tNOI1VM",
        "colab": {
          "base_uri": "https://localhost:8080/"
        },
        "outputId": "587b4e73-8432-4951-9492-b5f9d6346e6e"
      },
      "outputs": [
        {
          "output_type": "stream",
          "name": "stdout",
          "text": [
            "Esto es una cadena\n",
            "      Que quiero que salga\n",
            "              exactamente así\n",
            "   \n"
          ]
        }
      ],
      "source": [
        "print(\"\"\"\\\n",
        "Esto es una cadena\n",
        "      Que quiero que salga\n",
        "              exactamente así\n",
        "   \"\"\")"
      ]
    },
    {
      "cell_type": "code",
      "execution_count": 27,
      "metadata": {
        "id": "bgfK-xwfI1VM",
        "colab": {
          "base_uri": "https://localhost:8080/"
        },
        "outputId": "be1cb8b7-506f-42d7-c14e-58560ab88729"
      },
      "outputs": [
        {
          "output_type": "stream",
          "name": "stdout",
          "text": [
            "\n",
            "Esto es una cadena\n",
            "   Que quiero que salga\n",
            "   exactamente así\n",
            "\n"
          ]
        }
      ],
      "source": [
        "print(\"\\nEsto es una cadena\\n   Que quiero que salga\\n   exactamente así\\n\")"
      ]
    },
    {
      "cell_type": "markdown",
      "metadata": {
        "id": "3G4HjCSdI1VM"
      },
      "source": [
        "## Índices en las cadenas\n",
        "\n"
      ]
    },
    {
      "cell_type": "code",
      "execution_count": 28,
      "metadata": {
        "id": "CFTewbZUI1VM",
        "colab": {
          "base_uri": "https://localhost:8080/"
        },
        "outputId": "a83c70f9-d4e7-4e00-cdd0-a1d369b3000f"
      },
      "outputs": [
        {
          "output_type": "execute_result",
          "data": {
            "text/plain": [
              "('u', 'n')"
            ]
          },
          "metadata": {},
          "execution_count": 28
        }
      ],
      "source": [
        "word = 'Jupyter-Python'\n",
        "word[1], word[-1]"
      ]
    },
    {
      "cell_type": "code",
      "execution_count": 29,
      "metadata": {
        "id": "dY7s6OH3I1VM",
        "colab": {
          "base_uri": "https://localhost:8080/"
        },
        "outputId": "569505cd-573e-4ff0-9f58-b93d9eb7a2ea"
      },
      "outputs": [
        {
          "output_type": "execute_result",
          "data": {
            "text/plain": [
              "14"
            ]
          },
          "metadata": {},
          "execution_count": 29
        }
      ],
      "source": [
        "len(word)"
      ]
    },
    {
      "cell_type": "code",
      "execution_count": 30,
      "metadata": {
        "id": "DhqMJiGyI1VM",
        "colab": {
          "base_uri": "https://localhost:8080/",
          "height": 36
        },
        "outputId": "abea39f3-7352-4ecd-f232-ff78666710db"
      },
      "outputs": [
        {
          "output_type": "execute_result",
          "data": {
            "text/plain": [
              "'upy'"
            ],
            "application/vnd.google.colaboratory.intrinsic+json": {
              "type": "string"
            }
          },
          "metadata": {},
          "execution_count": 30
        }
      ],
      "source": [
        "word[1:4]"
      ]
    },
    {
      "cell_type": "markdown",
      "metadata": {
        "id": "jn9Ku0vPI1VM"
      },
      "source": [
        "## Las cadenas son inmutables\n",
        "\n"
      ]
    },
    {
      "cell_type": "markdown",
      "source": [
        "Cuando se dice que las cadenas son \"inmutables\", significa que una vez que se crea una cadena de caracteres (una secuencia de caracteres, como una palabra o una frase), no se pueden modificar sus caracteres individuales después de su creación. En lugar de cambiar una cadena existente, cualquier operación que aparentemente modifique una cadena en realidad crea una nueva cadena con los cambios deseados, dejando la cadena original sin alterar."
      ],
      "metadata": {
        "id": "5y3d-DWxz9Qg"
      }
    },
    {
      "cell_type": "code",
      "execution_count": 32,
      "metadata": {
        "id": "vg01Vd3bI1VN",
        "colab": {
          "base_uri": "https://localhost:8080/",
          "height": 175
        },
        "outputId": "591a3a62-8645-4d17-9fe6-368106a763c3"
      },
      "outputs": [
        {
          "output_type": "error",
          "ename": "NameError",
          "evalue": "ignored",
          "traceback": [
            "\u001b[0;31m---------------------------------------------------------------------------\u001b[0m",
            "\u001b[0;31mNameError\u001b[0m                                 Traceback (most recent call last)",
            "\u001b[0;32m<ipython-input-32-a92a3b34916c>\u001b[0m in \u001b[0;36m<cell line: 1>\u001b[0;34m()\u001b[0m\n\u001b[0;32m----> 1\u001b[0;31m \u001b[0mtype\u001b[0m\u001b[0;34m(\u001b[0m\u001b[0mpalabra\u001b[0m\u001b[0;34m)\u001b[0m\u001b[0;34m\u001b[0m\u001b[0;34m\u001b[0m\u001b[0m\n\u001b[0m",
            "\u001b[0;31mNameError\u001b[0m: name 'palabra' is not defined"
          ]
        }
      ],
      "source": [
        "type(palabra)"
      ]
    },
    {
      "cell_type": "code",
      "execution_count": 36,
      "metadata": {
        "id": "pTnEicEjI1VN",
        "colab": {
          "base_uri": "https://localhost:8080/",
          "height": 192
        },
        "outputId": "f9365f72-8a76-4eb3-e0bf-e344eeb922d9"
      },
      "outputs": [
        {
          "output_type": "error",
          "ename": "TypeError",
          "evalue": "ignored",
          "traceback": [
            "\u001b[0;31m---------------------------------------------------------------------------\u001b[0m",
            "\u001b[0;31mTypeError\u001b[0m                                 Traceback (most recent call last)",
            "\u001b[0;32m<ipython-input-36-6930a392a654>\u001b[0m in \u001b[0;36m<cell line: 2>\u001b[0;34m()\u001b[0m\n\u001b[1;32m      1\u001b[0m \u001b[0mpalabra\u001b[0m \u001b[0;34m=\u001b[0m \u001b[0;34m\"Jupyter-Python\"\u001b[0m\u001b[0;34m\u001b[0m\u001b[0;34m\u001b[0m\u001b[0m\n\u001b[0;32m----> 2\u001b[0;31m \u001b[0mpalabra\u001b[0m\u001b[0;34m[\u001b[0m\u001b[0;36m0\u001b[0m\u001b[0;34m]\u001b[0m \u001b[0;34m=\u001b[0m \u001b[0;34m'j'\u001b[0m\u001b[0;34m\u001b[0m\u001b[0;34m\u001b[0m\u001b[0m\n\u001b[0m",
            "\u001b[0;31mTypeError\u001b[0m: 'str' object does not support item assignment"
          ]
        }
      ],
      "source": [
        "palabra = \"Jupyter-Python\"\n",
        "palabra[0] = 'j'"
      ]
    },
    {
      "cell_type": "code",
      "execution_count": 34,
      "metadata": {
        "id": "0n5dkTK9I1VN",
        "colab": {
          "base_uri": "https://localhost:8080/",
          "height": 36
        },
        "outputId": "43c38f03-8289-461b-b89f-bf5e87e05c4d"
      },
      "outputs": [
        {
          "output_type": "execute_result",
          "data": {
            "text/plain": [
              "'Jupyter-Python es interesante'"
            ],
            "application/vnd.google.colaboratory.intrinsic+json": {
              "type": "string"
            }
          },
          "metadata": {},
          "execution_count": 34
        }
      ],
      "source": [
        "palabra = palabra + \" es interesante\"\n",
        "palabra"
      ]
    },
    {
      "cell_type": "code",
      "execution_count": 35,
      "metadata": {
        "id": "-2nMsVBKI1VN",
        "colab": {
          "base_uri": "https://localhost:8080/"
        },
        "outputId": "8547407b-1d96-4bab-ca4f-9417a49ca8ea"
      },
      "outputs": [
        {
          "output_type": "execute_result",
          "data": {
            "text/plain": [
              "5"
            ]
          },
          "metadata": {},
          "execution_count": 35
        }
      ],
      "source": [
        "palabra = palabra + \" es interesante\"\n",
        "palabra = 5\n",
        "palabra"
      ]
    },
    {
      "cell_type": "markdown",
      "metadata": {
        "id": "9mKvIT7VI1VN"
      },
      "source": [
        "## Ejercicio\n",
        "\n"
      ]
    },
    {
      "cell_type": "markdown",
      "metadata": {
        "id": "xehoMuofI1VO"
      },
      "source": [
        "Usando Python, encuentra el exponente $n$ más pequeño de tal manera que el número complejo $(3+4i)^{n}$ tenga módulo mayor que 100.\n",
        "\n",
        "\n",
        "\n"
      ]
    },
    {
      "cell_type": "code",
      "source": [
        "import cmath\n",
        "\n",
        "# Número complejo inicial\n",
        "z = complex(3, 4)\n",
        "\n",
        "# Valor objetivo del módulo\n",
        "modulo_objetivo = 100\n",
        "\n",
        "# Inicializamos el exponente n\n",
        "n = 1\n",
        "\n",
        "# Calculamos el módulo inicial\n",
        "modulo = abs(z)\n",
        "\n",
        "# Iteramos hasta que el módulo sea mayor que el objetivo\n",
        "while modulo <= modulo_objetivo:\n",
        "    z = z * complex(3, 4)  # Elevamos el número complejo a la potencia n\n",
        "    modulo = abs(z)  # Calculamos el nuevo módulo\n",
        "    n += 1\n",
        "\n",
        "print(\"El exponente n más pequeño para que el módulo sea mayor que 100 es:\", n)"
      ],
      "metadata": {
        "colab": {
          "base_uri": "https://localhost:8080/"
        },
        "id": "4Cd5MFvH2-oO",
        "outputId": "9e293783-61d1-4fe7-c01e-c0569fd4e59f"
      },
      "execution_count": 38,
      "outputs": [
        {
          "output_type": "stream",
          "name": "stdout",
          "text": [
            "El exponente n más pequeño para que el módulo sea mayor que 100 es: 3\n"
          ]
        }
      ]
    }
  ],
  "metadata": {
    "kernelspec": {
      "display_name": "Python 3",
      "language": "python",
      "name": "python3"
    },
    "language_info": {
      "codemirror_mode": {
        "name": "ipython",
        "version": 3
      },
      "file_extension": ".py",
      "mimetype": "text/x-python",
      "name": "python",
      "nbconvert_exporter": "python",
      "pygments_lexer": "ipython3",
      "version": "3.9.2"
    },
    "org": null,
    "colab": {
      "provenance": [],
      "include_colab_link": true
    }
  },
  "nbformat": 4,
  "nbformat_minor": 0
}