{
  "nbformat": 4,
  "nbformat_minor": 0,
  "metadata": {
    "colab": {
      "provenance": [],
      "authorship_tag": "ABX9TyOyeR8Zpnn3N3N1p/DVV+nm",
      "include_colab_link": true
    },
    "kernelspec": {
      "name": "python3",
      "display_name": "Python 3"
    },
    "language_info": {
      "name": "python"
    }
  },
  "cells": [
    {
      "cell_type": "markdown",
      "metadata": {
        "id": "view-in-github",
        "colab_type": "text"
      },
      "source": [
        "<a href=\"https://colab.research.google.com/github/fernandaleonn/PythonCourse/blob/main/Ejercicios_de_clase.ipynb\" target=\"_parent\"><img src=\"https://colab.research.google.com/assets/colab-badge.svg\" alt=\"Open In Colab\"/></a>"
      ]
    },
    {
      "cell_type": "markdown",
      "source": [
        "Define una clase que llame Perro, que tenga un atributo nombre y un método sonido (sin argumentos). Cuando se corra el método sonido en una instancia de la clase Perro, se debe regresar la cadena \"Guau\". Hacer una clase Gato análoga."
      ],
      "metadata": {
        "id": "cPt86pihYsbn"
      }
    },
    {
      "cell_type": "markdown",
      "source": [],
      "metadata": {
        "id": "3Zp6oY-RY03M"
      }
    },
    {
      "cell_type": "code",
      "source": [
        " class Perro:\n",
        "    def __init__(self,nombre,color,tamaño):\n",
        "        self.nombre = nombre\n",
        "        self.color = color\n",
        "        self.tamaño = tamaño\n",
        "\n",
        "\n",
        "\n",
        "    def sonido(self):\n",
        "        return \"Guau\"\n",
        "\n",
        "    def __repr__(self):\n",
        "        return f\"Es un perro llamado {self.nombre} y hace {self.sonido()}, es de color {self.color} y es de tamaño {self.tamaño}\"\n",
        "\n",
        "a = Perro(\"Jamón\",\"cafe\", \"pequeño\")\n",
        "a.sonido(),a.nombre\n",
        "\n",
        "\n",
        "\n",
        "\n"
      ],
      "metadata": {
        "colab": {
          "base_uri": "https://localhost:8080/"
        },
        "id": "q_U1PBpnY1NP",
        "outputId": "6ce0d63a-c268-4e20-faa4-7eba689f14b2"
      },
      "execution_count": 67,
      "outputs": [
        {
          "output_type": "execute_result",
          "data": {
            "text/plain": [
              "('Guau', 'Jamón')"
            ]
          },
          "metadata": {},
          "execution_count": 67
        }
      ]
    },
    {
      "cell_type": "code",
      "source": [
        "a"
      ],
      "metadata": {
        "colab": {
          "base_uri": "https://localhost:8080/"
        },
        "id": "GjKyZfmsffbW",
        "outputId": "1b3a3b9d-f398-4a2a-d34f-68b1783f70ae"
      },
      "execution_count": 68,
      "outputs": [
        {
          "output_type": "execute_result",
          "data": {
            "text/plain": [
              "Es un perro llamado Jamón y hace Guau, es de color cafe y es de tamaño pequeño"
            ]
          },
          "metadata": {},
          "execution_count": 68
        }
      ]
    },
    {
      "cell_type": "code",
      "source": [
        "type(a)"
      ],
      "metadata": {
        "colab": {
          "base_uri": "https://localhost:8080/"
        },
        "id": "2QChyrDxe5Fs",
        "outputId": "7cad3b97-1763-48b1-8b96-a2a405764508"
      },
      "execution_count": 69,
      "outputs": [
        {
          "output_type": "execute_result",
          "data": {
            "text/plain": [
              "__main__.Perro"
            ]
          },
          "metadata": {},
          "execution_count": 69
        }
      ]
    },
    {
      "cell_type": "code",
      "source": [
        " class Gato:\n",
        "    def __init__(self,nombre,apodo,color):\n",
        "        self.nombre = nombre\n",
        "        self.apodo = apodo\n",
        "        self.color = color\n",
        "\n",
        "\n",
        "\n",
        "    def sonido(self):\n",
        "        return \"Miau\"\n",
        "\n",
        "    def __repr__(self):\n",
        "        return f\"Es un gato llamado {self.nombre} y hace {self.sonido()}, su apodo es {self.apodo} y es de color {self.color}\"\n",
        "\n",
        "b = Gato(\"Massimo\",\"Massimino\", \"naranja\")\n",
        "b.sonido(), b.nombre\n",
        "c = Gato(\"Melek\",\"Melechina\", \"blanco\")\n",
        "c.sonido(), c.nombre\n",
        "\n",
        "\n",
        "\n",
        "\n"
      ],
      "metadata": {
        "colab": {
          "base_uri": "https://localhost:8080/"
        },
        "outputId": "e11edf53-651f-4256-a209-70393f4b23ab",
        "id": "5IdyVRPKgThk"
      },
      "execution_count": 78,
      "outputs": [
        {
          "output_type": "execute_result",
          "data": {
            "text/plain": [
              "('Miau', 'Melek')"
            ]
          },
          "metadata": {},
          "execution_count": 78
        }
      ]
    },
    {
      "cell_type": "code",
      "source": [
        "def tipo(tp):\n",
        "  if type(tp)==Perro:\n",
        "    return \"Este animal es un perro\"\n",
        "\n",
        "  if type(tp)==Gato:\n",
        "      return \"Este animal es un gato\""
      ],
      "metadata": {
        "id": "VBRYxwnjiI6B"
      },
      "execution_count": 83,
      "outputs": []
    },
    {
      "cell_type": "code",
      "source": [
        "tipo(b)\n"
      ],
      "metadata": {
        "colab": {
          "base_uri": "https://localhost:8080/",
          "height": 35
        },
        "id": "MXmhR2Tii4tJ",
        "outputId": "d1600824-2aee-4663-ada4-a7745d76cd28"
      },
      "execution_count": 87,
      "outputs": [
        {
          "output_type": "execute_result",
          "data": {
            "text/plain": [
              "'Este animal es un gato'"
            ],
            "application/vnd.google.colaboratory.intrinsic+json": {
              "type": "string"
            }
          },
          "metadata": {},
          "execution_count": 87
        }
      ]
    }
  ]
}